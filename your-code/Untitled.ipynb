{
 "cells": [
  {
   "cell_type": "code",
   "execution_count": 2,
   "id": "c2bd5d3b-b70e-43f8-b0e6-33b9fc8c9b1a",
   "metadata": {},
   "outputs": [],
   "source": [
    "import numpy as np "
   ]
  },
  {
   "cell_type": "code",
   "execution_count": 3,
   "id": "714fa531-ca40-419d-96ec-9fdea37251eb",
   "metadata": {},
   "outputs": [
    {
     "data": {
      "text/plain": [
       "array([[[0.79741997, 0.72909946, 0.64852719, 0.15898131, 0.78011266],\n",
       "        [0.00859195, 0.40556541, 0.43184119, 0.95489534, 0.90489645],\n",
       "        [0.82696661, 0.56574368, 0.04332074, 0.07894649, 0.12792425]],\n",
       "\n",
       "       [[0.71092219, 0.76053281, 0.78561018, 0.86325817, 0.22288229],\n",
       "        [0.43443219, 0.63576763, 0.17182381, 0.82937577, 0.44754421],\n",
       "        [0.22634882, 0.92517473, 0.20759534, 0.91683256, 0.81824206]]])"
      ]
     },
     "execution_count": 3,
     "metadata": {},
     "output_type": "execute_result"
    }
   ],
   "source": [
    "a=np.random.random((2,3,5))\n",
    "a"
   ]
  },
  {
   "cell_type": "code",
   "execution_count": 4,
   "id": "1001e2dd-46bc-4010-9e85-d61da1c52036",
   "metadata": {},
   "outputs": [],
   "source": [
    "b= np.ones((5,2,3))"
   ]
  },
  {
   "cell_type": "code",
   "execution_count": 5,
   "id": "6e2de7df-c902-475e-9e58-f6ba94cf9626",
   "metadata": {},
   "outputs": [
    {
     "data": {
      "text/plain": [
       "array([[[1., 1., 1.],\n",
       "        [1., 1., 1.]],\n",
       "\n",
       "       [[1., 1., 1.],\n",
       "        [1., 1., 1.]],\n",
       "\n",
       "       [[1., 1., 1.],\n",
       "        [1., 1., 1.]],\n",
       "\n",
       "       [[1., 1., 1.],\n",
       "        [1., 1., 1.]],\n",
       "\n",
       "       [[1., 1., 1.],\n",
       "        [1., 1., 1.]]])"
      ]
     },
     "execution_count": 5,
     "metadata": {},
     "output_type": "execute_result"
    }
   ],
   "source": [
    "b"
   ]
  },
  {
   "cell_type": "code",
   "execution_count": 6,
   "id": "929e1f3d-b1ed-4638-87ec-ab084c63309d",
   "metadata": {},
   "outputs": [
    {
     "data": {
      "text/plain": [
       "30"
      ]
     },
     "execution_count": 6,
     "metadata": {},
     "output_type": "execute_result"
    }
   ],
   "source": [
    "a.size\n"
   ]
  },
  {
   "cell_type": "code",
   "execution_count": 7,
   "id": "0cf92bd2-a9e1-4c93-8672-7a9de0daf628",
   "metadata": {},
   "outputs": [
    {
     "data": {
      "text/plain": [
       "30"
      ]
     },
     "execution_count": 7,
     "metadata": {},
     "output_type": "execute_result"
    }
   ],
   "source": [
    "b.size"
   ]
  },
  {
   "cell_type": "code",
   "execution_count": null,
   "id": "d4dd6d99-e4e4-40c5-9ca8-d09e0c6fc0d9",
   "metadata": {},
   "outputs": [],
   "source": []
  },
  {
   "cell_type": "code",
   "execution_count": 8,
   "id": "aeaf9054-2637-4ce6-9c28-c48c3ae889db",
   "metadata": {},
   "outputs": [
    {
     "data": {
      "text/plain": [
       "array([[[1., 1., 1., 1., 1.],\n",
       "        [1., 1., 1., 1., 1.],\n",
       "        [1., 1., 1., 1., 1.]],\n",
       "\n",
       "       [[1., 1., 1., 1., 1.],\n",
       "        [1., 1., 1., 1., 1.],\n",
       "        [1., 1., 1., 1., 1.]]])"
      ]
     },
     "execution_count": 8,
     "metadata": {},
     "output_type": "execute_result"
    }
   ],
   "source": [
    "c= b.transpose(1,2,0)\n",
    "c"
   ]
  },
  {
   "cell_type": "code",
   "execution_count": 47,
   "id": "af8ddcd0-deb3-47c1-8f18-d4220a60c777",
   "metadata": {},
   "outputs": [
    {
     "data": {
      "text/plain": [
       "array([[[1.79741997, 1.72909946, 1.64852719, 1.15898131, 1.78011266],\n",
       "        [1.00859195, 1.40556541, 1.43184119, 1.95489534, 1.90489645],\n",
       "        [1.82696661, 1.56574368, 1.04332074, 1.07894649, 1.12792425]],\n",
       "\n",
       "       [[1.71092219, 1.76053281, 1.78561018, 1.86325817, 1.22288229],\n",
       "        [1.43443219, 1.63576763, 1.17182381, 1.82937577, 1.44754421],\n",
       "        [1.22634882, 1.92517473, 1.20759534, 1.91683256, 1.81824206]]])"
      ]
     },
     "execution_count": 47,
     "metadata": {},
     "output_type": "execute_result"
    }
   ],
   "source": [
    "d= np.add(a,c)\n",
    "d"
   ]
  },
  {
   "cell_type": "code",
   "execution_count": 10,
   "id": "ab4b4ea3-e52c-4a4f-b1c5-b91935b3105d",
   "metadata": {},
   "outputs": [
    {
     "name": "stdout",
     "output_type": "stream",
     "text": [
      "[[[0.79741997 0.72909946 0.64852719 0.15898131 0.78011266]\n",
      "  [0.00859195 0.40556541 0.43184119 0.95489534 0.90489645]\n",
      "  [0.82696661 0.56574368 0.04332074 0.07894649 0.12792425]]\n",
      "\n",
      " [[0.71092219 0.76053281 0.78561018 0.86325817 0.22288229]\n",
      "  [0.43443219 0.63576763 0.17182381 0.82937577 0.44754421]\n",
      "  [0.22634882 0.92517473 0.20759534 0.91683256 0.81824206]]]\n"
     ]
    }
   ],
   "source": [
    "print(a)"
   ]
  },
  {
   "cell_type": "code",
   "execution_count": 11,
   "id": "2472c7a9-068f-4e6f-81f9-ac3ad5e4f111",
   "metadata": {},
   "outputs": [
    {
     "name": "stdout",
     "output_type": "stream",
     "text": [
      "[[[1.79741997 1.72909946 1.64852719 1.15898131 1.78011266]\n",
      "  [1.00859195 1.40556541 1.43184119 1.95489534 1.90489645]\n",
      "  [1.82696661 1.56574368 1.04332074 1.07894649 1.12792425]]\n",
      "\n",
      " [[1.71092219 1.76053281 1.78561018 1.86325817 1.22288229]\n",
      "  [1.43443219 1.63576763 1.17182381 1.82937577 1.44754421]\n",
      "  [1.22634882 1.92517473 1.20759534 1.91683256 1.81824206]]]\n"
     ]
    }
   ],
   "source": [
    "print(d)"
   ]
  },
  {
   "cell_type": "code",
   "execution_count": 12,
   "id": "bfde9459-dc7c-4baa-97cb-56cc4b8a641c",
   "metadata": {},
   "outputs": [
    {
     "data": {
      "text/plain": [
       "array([[[0.79741997, 0.72909946, 0.64852719, 0.15898131, 0.78011266],\n",
       "        [0.00859195, 0.40556541, 0.43184119, 0.95489534, 0.90489645],\n",
       "        [0.82696661, 0.56574368, 0.04332074, 0.07894649, 0.12792425]],\n",
       "\n",
       "       [[0.71092219, 0.76053281, 0.78561018, 0.86325817, 0.22288229],\n",
       "        [0.43443219, 0.63576763, 0.17182381, 0.82937577, 0.44754421],\n",
       "        [0.22634882, 0.92517473, 0.20759534, 0.91683256, 0.81824206]]])"
      ]
     },
     "execution_count": 12,
     "metadata": {},
     "output_type": "execute_result"
    }
   ],
   "source": [
    "e= np.multiply(a,c)\n",
    "e"
   ]
  },
  {
   "cell_type": "code",
   "execution_count": 13,
   "id": "0517ddb5-675a-409f-ba70-14f9194ddd4d",
   "metadata": {},
   "outputs": [],
   "source": [
    "#d. Assign those values to variables \"d_max\", \"d_min\", and \"d_mean\"\n",
    "d_max= np.max(d)\n",
    "d_min= np.min(d)\n",
    "d_mean=np.mean(d)"
   ]
  },
  {
   "cell_type": "code",
   "execution_count": 14,
   "id": "fc2decfc-bd3b-4c46-8953-1989ec494be1",
   "metadata": {},
   "outputs": [
    {
     "data": {
      "text/plain": [
       "1.9548953410549248"
      ]
     },
     "execution_count": 14,
     "metadata": {},
     "output_type": "execute_result"
    }
   ],
   "source": [
    "d_max"
   ]
  },
  {
   "cell_type": "code",
   "execution_count": 15,
   "id": "edfc329f-ab84-4564-aca0-ca6eee9b9667",
   "metadata": {},
   "outputs": [
    {
     "data": {
      "text/plain": [
       "1.0085919549757278"
      ]
     },
     "execution_count": 15,
     "metadata": {},
     "output_type": "execute_result"
    }
   ],
   "source": [
    "d_min"
   ]
  },
  {
   "cell_type": "code",
   "execution_count": 16,
   "id": "e5f1c77e-8b72-4ba1-850d-d3a23e540682",
   "metadata": {},
   "outputs": [
    {
     "data": {
      "text/plain": [
       "1.5473058478493367"
      ]
     },
     "execution_count": 16,
     "metadata": {},
     "output_type": "execute_result"
    }
   ],
   "source": [
    "d_mean"
   ]
  },
  {
   "cell_type": "code",
   "execution_count": 31,
   "id": "a7f3c641-9228-489d-91db-21f5dd2ea6e0",
   "metadata": {},
   "outputs": [],
   "source": [
    "f= np.empty((2,3,5))"
   ]
  },
  {
   "cell_type": "code",
   "execution_count": 62,
   "id": "4c115d6c-0b13-405f-86be-82914ed20fe3",
   "metadata": {},
   "outputs": [
    {
     "data": {
      "text/plain": [
       "array([[[ 75,  75,  75,  25,  75],\n",
       "        [  0,  25,  25, 100,  75],\n",
       "        [ 75,  75,  25,  25,  25]],\n",
       "\n",
       "       [[ 75,  75,  75,  75,  25],\n",
       "        [ 25,  75,  25,  75,  25],\n",
       "        [ 25,  75,  25,  75,  75]]])"
      ]
     },
     "execution_count": 62,
     "metadata": {},
     "output_type": "execute_result"
    }
   ],
   "source": [
    "for a, valor_a in enumerate(d):\n",
    "    for b, valor_b in enumerate(valor_a):\n",
    "        for c, valor in enumerate(valor_b):\n",
    "            if valor > d_min and valor < d_mean:\n",
    "                valor = 25\n",
    "                f[i][b][index] =valor\n",
    "        \n",
    "            elif valor > d_mean and valor < d_max:\n",
    "                valor = 75\n",
    "                f[a][b][c] = valor\n",
    "        \n",
    "            elif valor == d_mean:\n",
    "                valor = 50\n",
    "                f[a][b][c] = valor\n",
    "        \n",
    "            elif valor == d_min:\n",
    "                valor = 0\n",
    "                f[a][b][c] = valor\n",
    "        \n",
    "            elif valor == d_max:\n",
    "                valor = 100\n",
    "                f[a][b][c] = valor\n",
    "f"
   ]
  },
  {
   "cell_type": "code",
   "execution_count": 93,
   "id": "934b25cd-98ed-43a1-9079-e854a3e1e37b",
   "metadata": {},
   "outputs": [],
   "source": [
    "g= np.empty(((2,3,5)), dtype = str)"
   ]
  },
  {
   "cell_type": "code",
   "execution_count": 94,
   "id": "adc5f974-3068-487e-9f71-801e1c200fd9",
   "metadata": {},
   "outputs": [
    {
     "data": {
      "text/plain": [
       "array([[['D', 'D', 'D', 'B', 'D'],\n",
       "        ['A', 'B', 'B', 'E', 'D'],\n",
       "        ['D', 'D', 'B', 'B', 'B']],\n",
       "\n",
       "       [['D', 'D', 'D', 'D', 'B'],\n",
       "        ['B', 'D', 'B', 'D', 'B'],\n",
       "        ['B', 'D', 'B', 'D', 'D']]], dtype='<U1')"
      ]
     },
     "execution_count": 94,
     "metadata": {},
     "output_type": "execute_result"
    }
   ],
   "source": [
    "for a, valor_a in enumerate(d):\n",
    "    for b, valor_b in enumerate(valor_a):\n",
    "        for c, valor in enumerate(valor_b):\n",
    "            if valor > d_min and valor < d_mean:\n",
    "                valor = \"B\"\n",
    "                g[a][b][c] =valor\n",
    "        \n",
    "            elif valor > d_mean and valor < d_max:\n",
    "                valor = \"D\"\n",
    "                g[a][b][c] = valor\n",
    "        \n",
    "            elif valor == d_mean:\n",
    "                valor = \"C\"\n",
    "                g[a][b][c] = valor\n",
    "        \n",
    "            elif valor == d_min:\n",
    "                valor = \"A\"\n",
    "                g[a][b][c] = valor\n",
    "        \n",
    "            elif valor == d_max:\n",
    "                valor = \"E\"\n",
    "                g[a][b][c] = valor\n",
    "g"
   ]
  },
  {
   "cell_type": "code",
   "execution_count": null,
   "id": "f36dda54-32a9-457a-ab98-ca1488bdc28a",
   "metadata": {},
   "outputs": [],
   "source": []
  },
  {
   "cell_type": "code",
   "execution_count": null,
   "id": "d8b5ada7-642c-486b-b10a-a314136e34bf",
   "metadata": {},
   "outputs": [],
   "source": []
  },
  {
   "cell_type": "code",
   "execution_count": null,
   "id": "66fe7f67-b520-428e-b6df-67b8cac0f39a",
   "metadata": {},
   "outputs": [],
   "source": []
  },
  {
   "cell_type": "code",
   "execution_count": null,
   "id": "3429bf33-236e-4524-8dfb-a8cc6c1e424b",
   "metadata": {},
   "outputs": [],
   "source": []
  }
 ],
 "metadata": {
  "kernelspec": {
   "display_name": "Python 3 (ipykernel)",
   "language": "python",
   "name": "python3"
  },
  "language_info": {
   "codemirror_mode": {
    "name": "ipython",
    "version": 3
   },
   "file_extension": ".py",
   "mimetype": "text/x-python",
   "name": "python",
   "nbconvert_exporter": "python",
   "pygments_lexer": "ipython3",
   "version": "3.9.7"
  }
 },
 "nbformat": 4,
 "nbformat_minor": 5
}
